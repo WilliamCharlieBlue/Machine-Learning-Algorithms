{
 "cells": [
  {
   "cell_type": "markdown",
   "metadata": {},
   "source": [
    "# 4.7 Feature Scaling"
   ]
  },
  {
   "cell_type": "code",
   "execution_count": 4,
   "metadata": {},
   "outputs": [],
   "source": [
    "import numpy as np\n",
    "import matplotlib.pyplot as plt"
   ]
  },
  {
   "cell_type": "markdown",
   "metadata": {},
   "source": [
    "### 4.7.1 Normalization 最值归一化\n",
    "- 最值归一化：把所有数据映射到0-1之间\n",
    "- Xscale = (X - Xmin)/(Xmax - Xmin)\n",
    "- 适用于分布有明显分界的情况；受outlie影响较大"
   ]
  },
  {
   "cell_type": "code",
   "execution_count": 13,
   "metadata": {},
   "outputs": [],
   "source": [
    "x = np.random.randint(0, 100, 100)"
   ]
  },
  {
   "cell_type": "code",
   "execution_count": 14,
   "metadata": {},
   "outputs": [
    {
     "data": {
      "text/plain": [
       "array([59,  7, 90, 11, 79, 80, 27, 70, 31, 83, 47, 47, 46, 66, 66, 26, 75,\n",
       "       99, 79,  0, 47, 91, 56, 52, 94, 97, 61, 22,  8, 59, 60, 68, 91, 69,\n",
       "       76, 57, 39, 40, 48, 54,  9, 71, 34, 75, 15, 37, 61,  2, 96, 89, 11,\n",
       "       24, 36, 67, 85, 30, 72, 87, 35,  7, 14, 48, 47,  1, 30,  2, 90, 12,\n",
       "       11, 10, 23, 22, 62, 64, 56, 88, 80, 47, 57, 53, 64, 38, 35,  2, 25,\n",
       "       84, 95, 91,  5, 95, 37, 52, 95, 71, 35, 75, 54, 99, 51, 53])"
      ]
     },
     "execution_count": 14,
     "metadata": {},
     "output_type": "execute_result"
    }
   ],
   "source": [
    "x"
   ]
  },
  {
   "cell_type": "code",
   "execution_count": 15,
   "metadata": {},
   "outputs": [
    {
     "data": {
      "text/plain": [
       "array([0.5959596 , 0.07070707, 0.90909091, 0.11111111, 0.7979798 ,\n",
       "       0.80808081, 0.27272727, 0.70707071, 0.31313131, 0.83838384,\n",
       "       0.47474747, 0.47474747, 0.46464646, 0.66666667, 0.66666667,\n",
       "       0.26262626, 0.75757576, 1.        , 0.7979798 , 0.        ,\n",
       "       0.47474747, 0.91919192, 0.56565657, 0.52525253, 0.94949495,\n",
       "       0.97979798, 0.61616162, 0.22222222, 0.08080808, 0.5959596 ,\n",
       "       0.60606061, 0.68686869, 0.91919192, 0.6969697 , 0.76767677,\n",
       "       0.57575758, 0.39393939, 0.4040404 , 0.48484848, 0.54545455,\n",
       "       0.09090909, 0.71717172, 0.34343434, 0.75757576, 0.15151515,\n",
       "       0.37373737, 0.61616162, 0.02020202, 0.96969697, 0.8989899 ,\n",
       "       0.11111111, 0.24242424, 0.36363636, 0.67676768, 0.85858586,\n",
       "       0.3030303 , 0.72727273, 0.87878788, 0.35353535, 0.07070707,\n",
       "       0.14141414, 0.48484848, 0.47474747, 0.01010101, 0.3030303 ,\n",
       "       0.02020202, 0.90909091, 0.12121212, 0.11111111, 0.1010101 ,\n",
       "       0.23232323, 0.22222222, 0.62626263, 0.64646465, 0.56565657,\n",
       "       0.88888889, 0.80808081, 0.47474747, 0.57575758, 0.53535354,\n",
       "       0.64646465, 0.38383838, 0.35353535, 0.02020202, 0.25252525,\n",
       "       0.84848485, 0.95959596, 0.91919192, 0.05050505, 0.95959596,\n",
       "       0.37373737, 0.52525253, 0.95959596, 0.71717172, 0.35353535,\n",
       "       0.75757576, 0.54545455, 1.        , 0.51515152, 0.53535354])"
      ]
     },
     "execution_count": 15,
     "metadata": {},
     "output_type": "execute_result"
    }
   ],
   "source": [
    "# Xscale = (X - Xmin)/(Xmax - Xmin)\n",
    "(x - np.min(x)) / (np.max(x) - np.min(x))"
   ]
  },
  {
   "cell_type": "code",
   "execution_count": 22,
   "metadata": {},
   "outputs": [],
   "source": [
    "X = np.random.randint(0, 100, (50, 2))"
   ]
  },
  {
   "cell_type": "code",
   "execution_count": 23,
   "metadata": {},
   "outputs": [
    {
     "data": {
      "text/plain": [
       "array([[15, 64],\n",
       "       [51, 83],\n",
       "       [24, 32],\n",
       "       [16, 12],\n",
       "       [44, 78],\n",
       "       [82, 42],\n",
       "       [41, 69],\n",
       "       [21, 30],\n",
       "       [49,  4],\n",
       "       [20, 57]])"
      ]
     },
     "execution_count": 23,
     "metadata": {},
     "output_type": "execute_result"
    }
   ],
   "source": [
    "X[:10, :]"
   ]
  },
  {
   "cell_type": "code",
   "execution_count": 24,
   "metadata": {},
   "outputs": [],
   "source": [
    "X = np.array(X, dtype=float)"
   ]
  },
  {
   "cell_type": "code",
   "execution_count": 25,
   "metadata": {},
   "outputs": [
    {
     "data": {
      "text/plain": [
       "array([[15., 64.],\n",
       "       [51., 83.],\n",
       "       [24., 32.],\n",
       "       [16., 12.],\n",
       "       [44., 78.],\n",
       "       [82., 42.],\n",
       "       [41., 69.],\n",
       "       [21., 30.],\n",
       "       [49.,  4.],\n",
       "       [20., 57.]])"
      ]
     },
     "execution_count": 25,
     "metadata": {},
     "output_type": "execute_result"
    }
   ],
   "source": [
    "X[:10, :]"
   ]
  },
  {
   "cell_type": "code",
   "execution_count": 26,
   "metadata": {},
   "outputs": [],
   "source": [
    "X[:, 0] = (X[:, 0] - np.min(X[:, 0])) / (np.max(X[:, 0]) - np.min(X[:, 0]))"
   ]
  },
  {
   "cell_type": "code",
   "execution_count": 27,
   "metadata": {},
   "outputs": [],
   "source": [
    "X[:, 1] = (X[:, 1] - np.min(X[:, 1])) / (np.max(X[:, 1]) - np.min(X[:, 1]))"
   ]
  },
  {
   "cell_type": "code",
   "execution_count": 28,
   "metadata": {},
   "outputs": [
    {
     "data": {
      "text/plain": [
       "array([[0.15730337, 0.63157895],\n",
       "       [0.56179775, 0.83157895],\n",
       "       [0.25842697, 0.29473684],\n",
       "       [0.16853933, 0.08421053],\n",
       "       [0.48314607, 0.77894737],\n",
       "       [0.91011236, 0.4       ],\n",
       "       [0.4494382 , 0.68421053],\n",
       "       [0.2247191 , 0.27368421],\n",
       "       [0.53932584, 0.        ],\n",
       "       [0.21348315, 0.55789474]])"
      ]
     },
     "execution_count": 28,
     "metadata": {},
     "output_type": "execute_result"
    }
   ],
   "source": [
    "X[:10, :]"
   ]
  },
  {
   "cell_type": "code",
   "execution_count": 29,
   "metadata": {},
   "outputs": [
    {
     "data": {
      "image/png": "[encoded data removed]",
      "text/plain": [
       "<Figure size 432x288 with 1 Axes>"
      ]
     },
     "metadata": {
      "needs_background": "light"
     },
     "output_type": "display_data"
    }
   ],
   "source": [
    "plt.scatter(X[:,0], X[:, 1])\n",
    "plt.show()"
   ]
  },
  {
   "cell_type": "code",
   "execution_count": 30,
   "metadata": {},
   "outputs": [
    {
     "data": {
      "text/plain": [
       "0.4730337078651685"
      ]
     },
     "execution_count": 30,
     "metadata": {},
     "output_type": "execute_result"
    }
   ],
   "source": [
    "np.mean(X[:, 0])"
   ]
  },
  {
   "cell_type": "code",
   "execution_count": 31,
   "metadata": {},
   "outputs": [
    {
     "data": {
      "text/plain": [
       "0.30117599745287993"
      ]
     },
     "execution_count": 31,
     "metadata": {},
     "output_type": "execute_result"
    }
   ],
   "source": [
    "np.std(X[:, 0])"
   ]
  },
  {
   "cell_type": "code",
   "execution_count": 32,
   "metadata": {},
   "outputs": [
    {
     "data": {
      "text/plain": [
       "0.5362105263157895"
      ]
     },
     "execution_count": 32,
     "metadata": {},
     "output_type": "execute_result"
    }
   ],
   "source": [
    "np.mean(X[:, 1])"
   ]
  },
  {
   "cell_type": "code",
   "execution_count": 33,
   "metadata": {},
   "outputs": [
    {
     "data": {
      "text/plain": [
       "0.29709888110249516"
      ]
     },
     "execution_count": 33,
     "metadata": {},
     "output_type": "execute_result"
    }
   ],
   "source": [
    "np.std(X[:, 1])"
   ]
  },
  {
   "cell_type": "markdown",
   "metadata": {},
   "source": [
    "### 4.7.2 Standardization 均值方差均一化\n",
    "- 均值方差均一化：把所有数据归一到均值为0；方差为1的分布中\n",
    "- Xscale = (X - Xmean) / S\n",
    "- 数据分布没有明显的边界；有可能存在极端数据值"
   ]
  },
  {
   "cell_type": "code",
   "execution_count": 34,
   "metadata": {},
   "outputs": [],
   "source": [
    "X2 = np.random.randint(0, 100, (50, 2))"
   ]
  },
  {
   "cell_type": "code",
   "execution_count": 35,
   "metadata": {},
   "outputs": [],
   "source": [
    "X2 = np.array(X2, dtype=float)"
   ]
  },
  {
   "cell_type": "code",
   "execution_count": 36,
   "metadata": {},
   "outputs": [],
   "source": [
    "X2[:,0] = (X2[:,0] - np.mean(X2[:,0])) / np.std(X2[:,0])"
   ]
  },
  {
   "cell_type": "code",
   "execution_count": 37,
   "metadata": {},
   "outputs": [],
   "source": [
    "X2[:,1] = (X2[:,1] - np.mean(X2[:,1])) / np.std(X2[:,1])"
   ]
  },
  {
   "cell_type": "code",
   "execution_count": 38,
   "metadata": {},
   "outputs": [
    {
     "data": {
      "image/png": "[encoded data removed]",
      "text/plain": [
       "<Figure size 432x288 with 1 Axes>"
      ]
     },
     "metadata": {
      "needs_background": "light"
     },
     "output_type": "display_data"
    }
   ],
   "source": [
    "plt.scatter(X2[:,0], X2[:,1])\n",
    "plt.show()"
   ]
  },
  {
   "cell_type": "code",
   "execution_count": 39,
   "metadata": {},
   "outputs": [
    {
     "data": {
      "text/plain": [
       "-3.552713678800501e-17"
      ]
     },
     "execution_count": 39,
     "metadata": {},
     "output_type": "execute_result"
    }
   ],
   "source": [
    "np.mean(X2[:,0])"
   ]
  },
  {
   "cell_type": "code",
   "execution_count": 40,
   "metadata": {},
   "outputs": [
    {
     "data": {
      "text/plain": [
       "1.0"
      ]
     },
     "execution_count": 40,
     "metadata": {},
     "output_type": "execute_result"
    }
   ],
   "source": [
    "np.std(X2[:,1])"
   ]
  },
  {
   "cell_type": "code",
   "execution_count": 41,
   "metadata": {},
   "outputs": [
    {
     "data": {
      "text/plain": [
       "1.1546319456101628e-16"
      ]
     },
     "execution_count": 41,
     "metadata": {},
     "output_type": "execute_result"
    }
   ],
   "source": [
    "np.mean(X2[:,1])"
   ]
  },
  {
   "cell_type": "code",
   "execution_count": 42,
   "metadata": {},
   "outputs": [
    {
     "data": {
      "text/plain": [
       "1.0"
      ]
     },
     "execution_count": 42,
     "metadata": {},
     "output_type": "execute_result"
    }
   ],
   "source": [
    "np.std(X2[:,1])"
   ]
  },
  {
   "cell_type": "code",
   "execution_count": null,
   "metadata": {},
   "outputs": [],
   "source": []
  }
 ],
 "metadata": {
  "kernelspec": {
   "display_name": "Python 3",
   "language": "python",
   "name": "python3"
  },
  "language_info": {
   "codemirror_mode": {
    "name": "ipython",
    "version": 3
   },
   "file_extension": ".py",
   "mimetype": "text/x-python",
   "name": "python",
   "nbconvert_exporter": "python",
   "pygments_lexer": "ipython3",
   "version": "3.8.5"
  }
 },
 "nbformat": 4,
 "nbformat_minor": 4
}
